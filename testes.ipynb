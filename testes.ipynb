{
 "cells": [
  {
   "cell_type": "code",
   "execution_count": 27,
   "metadata": {},
   "outputs": [],
   "source": [
    "import requests\n",
    "\n",
    "endpoint = \"https://api.lyrics.ovh/v1/one-direction/best-song-ever\"\n",
    "\n",
    "response = requests.get(endpoint)"
   ]
  },
  {
   "cell_type": "code",
   "execution_count": 28,
   "metadata": {},
   "outputs": [
    {
     "data": {
      "text/plain": [
       "200"
      ]
     },
     "execution_count": 28,
     "metadata": {},
     "output_type": "execute_result"
    }
   ],
   "source": [
    "response.status_code"
   ]
  },
  {
   "cell_type": "code",
   "execution_count": 29,
   "metadata": {},
   "outputs": [
    {
     "name": "stdout",
     "output_type": "stream",
     "text": [
      "Paroles de la chanson Best Song Ever par One Direction\n",
      "Maybe it’s the way she walked, straight into my heart and stole it\n",
      "Through the doors and past the guards, just like she already own it\n",
      "I said can you give it back to me, she said never in your wildest dreams\n",
      "\n",
      "And we danced all night to the best song ever\n",
      "We knew every line now I can’t remember\n",
      "How it goes but I know that I won’t forget her\n",
      "Cause we danced all night to the best song ever\n",
      "\n",
      "I think it went oh, oh, oh\n",
      "I think it went yeah, yeah, yeah\n",
      "I think it goes…\n",
      "\n",
      "\n",
      "Said her name was georgia rose, and her daddy was a dentist\n",
      "Said I had a dirty mouth (I got a dirty mouth) but she kissed me like she meant it\n",
      "I said can I take you home with me, she said never in your wildest dreams\n",
      "\n",
      "And we danced all night to the best song ever\n",
      "We knew every line now I can’t remember\n",
      "How it goes but I know that I won’t forget her\n",
      "Cause we danced all night to the best song ever\n",
      "\n",
      "I think it went oh, oh, oh\n",
      "I think it went yeah, yeah, yeah\n",
      "I think it goes…\n",
      "\n",
      "You know, I know, you know I’ll remember you, \n",
      "And I know, you know, I know you’ll remember me, \n",
      "\n",
      "And you know, I know, you know I’ll remember you, \n",
      "And I know, you know, I hope you’ll remember how we danced, \n",
      "(Yeah yeah yeah) how we danced\n",
      "\n",
      "1, 2, 1, 2, 3\n",
      "\n",
      "And we danced all night to the best song ever\n",
      "We knew every line now I can’t remember\n",
      "How it goes but I know that I won’t forget her\n",
      "Cause we danced all night to the best song ever\n",
      "(We danced, we danced, it goes something like)\n",
      "\n",
      "We danced all night to the best song ever\n",
      "We knew every line now I can’t remember\n",
      "How it goes but I know that I won’t forget her\n",
      "Cause we danced all night to the best song ever\n",
      "\n",
      "\n",
      "I think it went oh, oh, oh\n",
      "I think it went yeah, yeah, yeah\n",
      "I think it goes….\n",
      "\n",
      "Best song ever, it was the best song ever, \n",
      "It was the best song ever, it was the best song ever\n"
     ]
    }
   ],
   "source": [
    "print(response.json()['lyrics'])"
   ]
  },
  {
   "cell_type": "code",
   "execution_count": 25,
   "metadata": {},
   "outputs": [],
   "source": [
    "import pywhatkit as py"
   ]
  },
  {
   "cell_type": "code",
   "execution_count": 26,
   "metadata": {},
   "outputs": [
    {
     "name": "stdout",
     "output_type": "stream",
     "text": [
      "https://www.youtube.com/watch?v=o_v9MY_FMcw\\\\u0026pp=ygUUQmVzdCBTb25nIEV2ZXIgVmlkZW8%3D\n"
     ]
    }
   ],
   "source": [
    "response = py.playonyt(\"Best Song Ever Video\",  False, False)\n",
    "\n",
    "print(response)"
   ]
  }
 ],
 "metadata": {
  "kernelspec": {
   "display_name": ".venv",
   "language": "python",
   "name": "python3"
  },
  "language_info": {
   "codemirror_mode": {
    "name": "ipython",
    "version": 3
   },
   "file_extension": ".py",
   "mimetype": "text/x-python",
   "name": "python",
   "nbconvert_exporter": "python",
   "pygments_lexer": "ipython3",
   "version": "3.12.5"
  }
 },
 "nbformat": 4,
 "nbformat_minor": 2
}
